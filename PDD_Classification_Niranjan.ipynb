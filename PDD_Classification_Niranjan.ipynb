{
 "cells": [
  {
   "cell_type": "code",
   "execution_count": 2,
   "metadata": {
    "colab": {
     "base_uri": "https://localhost:8080/"
    },
    "executionInfo": {
     "elapsed": 528989,
     "status": "ok",
     "timestamp": 1623172892175,
     "user": {
      "displayName": "Akella Niranjan",
      "photoUrl": "https://lh3.googleusercontent.com/a-/AOh14GiS0hDW7cYrcLRQ7IP_TVEsKTd1iwuhmSjd-QBh=s64",
      "userId": "10548223611542786095"
     },
     "user_tz": -330
    },
    "id": "pBUPYa6yQbVc",
    "outputId": "09742ccf-a326-47c5-919f-7b17e619285d"
   },
   "outputs": [],
   "source": [
    "# # Download a file based on its file ID.\r\n",
    "# file_id = '18DbC6Xj4NP-hLzI14WuMaAEyq482vNfn'\r\n",
    "\r\n",
    "# # Download dataset\r\n",
    "# !gdown https://drive.google.com/uc?id={file_id}\r\n",
    "\r\n",
    "# # Unzip the downloaded file\r\n",
    "# !unzip -q PlantVillage.zip"
   ]
  },
  {
   "cell_type": "code",
   "execution_count": 1,
   "metadata": {
    "executionInfo": {
     "elapsed": 9244,
     "status": "ok",
     "timestamp": 1623177820513,
     "user": {
      "displayName": "Akella Niranjan",
      "photoUrl": "https://lh3.googleusercontent.com/a-/AOh14GiS0hDW7cYrcLRQ7IP_TVEsKTd1iwuhmSjd-QBh=s64",
      "userId": "10548223611542786095"
     },
     "user_tz": -330
    },
    "id": "ckkfHCP7rJhi"
   },
   "outputs": [],
   "source": [
    "from tensorflow.keras.models import Sequential, Model\r\n",
    "from tensorflow.keras.layers import Conv2D,Activation,LeakyReLU,BatchNormalization,MaxPooling2D,Flatten,Dense,Dropout\r\n",
    "from tensorflow.keras.optimizers import Adam\r\n",
    "from tensorflow.keras import backend as K\r\n",
    "\r\n",
    "\r\n",
    "from tensorflow.keras.preprocessing import image\r\n",
    "from tensorflow.keras.preprocessing.image import ImageDataGenerator,img_to_array\r\n",
    "import xgboost as xgb\r\n",
    "import matplotlib.pyplot as plt\r\n",
    "import pandas as pd\r\n",
    "import numpy as np\r\n"
   ]
  },
  {
   "cell_type": "code",
   "execution_count": 2,
   "metadata": {
    "executionInfo": {
     "elapsed": 654,
     "status": "ok",
     "timestamp": 1623177821157,
     "user": {
      "displayName": "Akella Niranjan",
      "photoUrl": "https://lh3.googleusercontent.com/a-/AOh14GiS0hDW7cYrcLRQ7IP_TVEsKTd1iwuhmSjd-QBh=s64",
      "userId": "10548223611542786095"
     },
     "user_tz": -330
    },
    "id": "0Zqy61__Rn5L"
   },
   "outputs": [],
   "source": [
    "import pickle\n",
    "import cv2\n",
    "import os\n",
    "from os import listdir\n",
    "from sklearn.preprocessing import LabelBinarizer,MultiLabelBinarizer\n",
    "from sklearn.model_selection import train_test_split\n"
   ]
  },
  {
   "cell_type": "code",
   "execution_count": 3,
   "metadata": {
    "executionInfo": {
     "elapsed": 371,
     "status": "ok",
     "timestamp": 1623177823254,
     "user": {
      "displayName": "Akella Niranjan",
      "photoUrl": "https://lh3.googleusercontent.com/a-/AOh14GiS0hDW7cYrcLRQ7IP_TVEsKTd1iwuhmSjd-QBh=s64",
      "userId": "10548223611542786095"
     },
     "user_tz": -330
    },
    "id": "GZ93_IycTZPa"
   },
   "outputs": [],
   "source": [
    "# Dimension of resized image\r\n",
    "DEFAULT_IMAGE_SIZE = tuple((256, 256))\r\n",
    "\r\n",
    "# Number of images used to train the model\r\n",
    "N_IMAGES = 100\r\n",
    "\r\n",
    "# Path to the dataset folder\r\n",
    "root_dir = r'C:\\Users\\niran\\Desktop\\PDD_Algorithm\\PlantVillage'\r\n",
    "\r\n",
    "train_dir = os.path.join(root_dir, 'train')\r\n",
    "val_dir = os.path.join(root_dir, 'val')\r\n",
    "\r\n",
    "\"\"\"We use the function `convert_image_to_array` to resize an image to the size `DEFAULT_IMAGE_SIZE` we defined above.\"\"\"\r\n",
    "\r\n",
    "def convert_image_to_array(image_dir):\r\n",
    "    try:\r\n",
    "        image = cv2.imread(image_dir)\r\n",
    "        if image is not None:\r\n",
    "            image = cv2.resize(image, DEFAULT_IMAGE_SIZE)   \r\n",
    "            return img_to_array(image)\r\n",
    "        else:\r\n",
    "            return np.array([])\r\n",
    "    except Exception as e:\r\n",
    "        print(f\"Error : {e}\")\r\n",
    "        return None"
   ]
  },
  {
   "cell_type": "code",
   "execution_count": 4,
   "metadata": {
    "colab": {
     "base_uri": "https://localhost:8080/"
    },
    "executionInfo": {
     "elapsed": 11,
     "status": "ok",
     "timestamp": 1623177825147,
     "user": {
      "displayName": "Akella Niranjan",
      "photoUrl": "https://lh3.googleusercontent.com/a-/AOh14GiS0hDW7cYrcLRQ7IP_TVEsKTd1iwuhmSjd-QBh=s64",
      "userId": "10548223611542786095"
     },
     "user_tz": -330
    },
    "id": "QIXPhJmoTvyv",
    "outputId": "ba34dd43-b38c-4d19-dddc-40a942cc26e5"
   },
   "outputs": [
    {
     "name": "stdout",
     "output_type": "stream",
     "text": [
      "[INFO] Loading images ...\n",
      "39\n"
     ]
    }
   ],
   "source": [
    "print(\"[INFO] Loading images ...\")\n",
    "plant_disease_folder_list = listdir(train_dir)\n",
    "print(len(plant_disease_folder_list))"
   ]
  },
  {
   "cell_type": "code",
   "execution_count": 5,
   "metadata": {},
   "outputs": [
    {
     "data": {
      "text/plain": [
       "['plant_disease_label_transform.pkl', 'train', 'val']"
      ]
     },
     "execution_count": 5,
     "metadata": {},
     "output_type": "execute_result"
    }
   ],
   "source": [
    "os.chdir(r'C:\\Users\\niran\\Desktop\\PDD_Algorithm\\PlantVillage')\r\n",
    "listdir()"
   ]
  },
  {
   "cell_type": "code",
   "execution_count": 7,
   "metadata": {
    "colab": {
     "base_uri": "https://localhost:8080/"
    },
    "executionInfo": {
     "elapsed": 10954,
     "status": "ok",
     "timestamp": 1623177838050,
     "user": {
      "displayName": "Akella Niranjan",
      "photoUrl": "https://lh3.googleusercontent.com/a-/AOh14GiS0hDW7cYrcLRQ7IP_TVEsKTd1iwuhmSjd-QBh=s64",
      "userId": "10548223611542786095"
     },
     "user_tz": -330
    },
    "id": "VgUTu7ZFTjaD",
    "outputId": "9fc82226-e80e-4e72-f852-86fab68e327e"
   },
   "outputs": [
    {
     "name": "stdout",
     "output_type": "stream",
     "text": [
      "[INFO] Loading images ...\n",
      "[INFO] Processing Apple___Apple_scab ...\n",
      "[INFO] Processing Apple___Black_rot ...\n",
      "[INFO] Processing Apple___Cedar_apple_rust ...\n",
      "[INFO] Processing Apple___healthy ...\n",
      "[INFO] Processing background ...\n",
      "[INFO] Processing Blueberry___healthy ...\n",
      "[INFO] Processing Cherry_(including_sour)___healthy ...\n",
      "[INFO] Processing Cherry_(including_sour)___Powdery_mildew ...\n",
      "[INFO] Processing Corn_(maize)___Cercospora_leaf_spot Gray_leaf_spot ...\n",
      "[INFO] Processing Corn_(maize)___Common_rust_ ...\n",
      "[INFO] Processing Corn_(maize)___healthy ...\n",
      "[INFO] Processing Corn_(maize)___Northern_Leaf_Blight ...\n",
      "[INFO] Processing Grape___Black_rot ...\n",
      "[INFO] Processing Grape___Esca_(Black_Measles) ...\n",
      "[INFO] Processing Grape___healthy ...\n",
      "[INFO] Processing Grape___Leaf_blight_(Isariopsis_Leaf_Spot) ...\n",
      "[INFO] Processing Orange___Haunglongbing_(Citrus_greening) ...\n",
      "[INFO] Processing Peach___Bacterial_spot ...\n",
      "[INFO] Processing Peach___healthy ...\n",
      "[INFO] Processing Pepper,_bell___Bacterial_spot ...\n",
      "[INFO] Processing Pepper,_bell___healthy ...\n",
      "[INFO] Processing Potato___Early_blight ...\n",
      "[INFO] Processing Potato___healthy ...\n",
      "[INFO] Processing Potato___Late_blight ...\n",
      "[INFO] Processing Raspberry___healthy ...\n",
      "[INFO] Processing Soybean___healthy ...\n",
      "[INFO] Processing Squash___Powdery_mildew ...\n",
      "[INFO] Processing Strawberry___healthy ...\n",
      "[INFO] Processing Strawberry___Leaf_scorch ...\n",
      "[INFO] Processing Tomato___Bacterial_spot ...\n",
      "[INFO] Processing Tomato___Early_blight ...\n",
      "[INFO] Processing Tomato___healthy ...\n",
      "[INFO] Processing Tomato___Late_blight ...\n",
      "[INFO] Processing Tomato___Leaf_Mold ...\n",
      "[INFO] Processing Tomato___Septoria_leaf_spot ...\n",
      "[INFO] Processing Tomato___Spider_mites Two-spotted_spider_mite ...\n",
      "[INFO] Processing Tomato___Target_Spot ...\n",
      "[INFO] Processing Tomato___Tomato_mosaic_virus ...\n",
      "[INFO] Processing Tomato___Tomato_Yellow_Leaf_Curl_Virus ...\n",
      "[INFO] Processing Apple___Apple_scab ...\n",
      "[INFO] Processing Apple___Black_rot ...\n",
      "[INFO] Processing Apple___Cedar_apple_rust ...\n",
      "[INFO] Processing Apple___healthy ...\n",
      "[INFO] Processing background ...\n",
      "[INFO] Processing Blueberry___healthy ...\n",
      "[INFO] Processing Cherry_(including_sour)___healthy ...\n",
      "[INFO] Processing Cherry_(including_sour)___Powdery_mildew ...\n",
      "[INFO] Processing Corn_(maize)___Cercospora_leaf_spot Gray_leaf_spot ...\n",
      "[INFO] Processing Corn_(maize)___Common_rust_ ...\n",
      "[INFO] Processing Corn_(maize)___healthy ...\n",
      "[INFO] Processing Corn_(maize)___Northern_Leaf_Blight ...\n",
      "[INFO] Processing Grape___Black_rot ...\n",
      "[INFO] Processing Grape___Esca_(Black_Measles) ...\n",
      "[INFO] Processing Grape___healthy ...\n",
      "[INFO] Processing Grape___Leaf_blight_(Isariopsis_Leaf_Spot) ...\n",
      "[INFO] Processing Orange___Haunglongbing_(Citrus_greening) ...\n",
      "[INFO] Processing Peach___Bacterial_spot ...\n",
      "[INFO] Processing Peach___healthy ...\n",
      "[INFO] Processing Pepper,_bell___Bacterial_spot ...\n",
      "[INFO] Processing Pepper,_bell___healthy ...\n",
      "[INFO] Processing Potato___Early_blight ...\n",
      "[INFO] Processing Potato___healthy ...\n",
      "[INFO] Processing Potato___Late_blight ...\n",
      "[INFO] Processing Raspberry___healthy ...\n",
      "[INFO] Processing Soybean___healthy ...\n",
      "[INFO] Processing Squash___Powdery_mildew ...\n",
      "[INFO] Processing Strawberry___healthy ...\n",
      "[INFO] Processing Strawberry___Leaf_scorch ...\n",
      "[INFO] Processing Tomato___Bacterial_spot ...\n",
      "[INFO] Processing Tomato___Early_blight ...\n",
      "[INFO] Processing Tomato___healthy ...\n",
      "[INFO] Processing Tomato___Late_blight ...\n",
      "[INFO] Processing Tomato___Leaf_Mold ...\n",
      "[INFO] Processing Tomato___Septoria_leaf_spot ...\n",
      "[INFO] Processing Tomato___Spider_mites Two-spotted_spider_mite ...\n",
      "[INFO] Processing Tomato___Target_Spot ...\n",
      "[INFO] Processing Tomato___Tomato_mosaic_virus ...\n",
      "[INFO] Processing Tomato___Tomato_Yellow_Leaf_Curl_Virus ...\n",
      "[INFO] Image loading completed\n"
     ]
    }
   ],
   "source": [
    "image_list_train, label_list_train = [], []\r\n",
    "\r\n",
    "try:\r\n",
    "    print(\"[INFO] Loading images ...\")\r\n",
    "    for s in listdir():\r\n",
    "        plant_disease_folder_list = listdir(s)\r\n",
    "\r\n",
    "        for plant_disease_folder in plant_disease_folder_list:\r\n",
    "            print(f\"[INFO] Processing {plant_disease_folder} ...\")\r\n",
    "            plant_disease_image_list = listdir(f\"{train_dir}/{plant_disease_folder}/\")\r\n",
    "\r\n",
    "            for image in plant_disease_image_list[:N_IMAGES]:\r\n",
    "                image_directory = f\"{train_dir}/{plant_disease_folder}/{image}\"\r\n",
    "                if image_directory.endswith(\".jpg\")==True or image_directory.endswith(\".JPG\")==True:\r\n",
    "                    image_list_train.append(convert_image_to_array(image_directory))\r\n",
    "                    label_list_train.append(plant_disease_folder)\r\n",
    "\r\n",
    "    print(\"[INFO] Image loading completed\")  \r\n",
    "except Exception as e:\r\n",
    "    print(f\"Error : {e}\")"
   ]
  },
  {
   "cell_type": "code",
   "execution_count": 11,
   "metadata": {
    "colab": {
     "base_uri": "https://localhost:8080/"
    },
    "executionInfo": {
     "elapsed": 6,
     "status": "ok",
     "timestamp": 1623177838050,
     "user": {
      "displayName": "Akella Niranjan",
      "photoUrl": "https://lh3.googleusercontent.com/a-/AOh14GiS0hDW7cYrcLRQ7IP_TVEsKTd1iwuhmSjd-QBh=s64",
      "userId": "10548223611542786095"
     },
     "user_tz": -330
    },
    "id": "Cu2DGtVGW3r3",
    "outputId": "aebba22f-7a88-4210-88f1-43597cc48156"
   },
   "outputs": [
    {
     "name": "stdout",
     "output_type": "stream",
     "text": [
      "0\n"
     ]
    }
   ],
   "source": [
    "print(len(image_list_train))"
   ]
  },
  {
   "cell_type": "code",
   "execution_count": 8,
   "metadata": {
    "colab": {
     "base_uri": "https://localhost:8080/"
    },
    "executionInfo": {
     "elapsed": 11984,
     "status": "ok",
     "timestamp": 1623177852520,
     "user": {
      "displayName": "Akella Niranjan",
      "photoUrl": "https://lh3.googleusercontent.com/a-/AOh14GiS0hDW7cYrcLRQ7IP_TVEsKTd1iwuhmSjd-QBh=s64",
      "userId": "10548223611542786095"
     },
     "user_tz": -330
    },
    "id": "AgXTKzClTjLY",
    "outputId": "f9aafeb2-f6c1-477f-dbfb-2a0dd52bf1be"
   },
   "outputs": [
    {
     "name": "stdout",
     "output_type": "stream",
     "text": [
      "\n",
      "Total number of images: 7800\n"
     ]
    }
   ],
   "source": [
    "# Transform the loaded training image data into numpy array\r\n",
    "np_image_list = np.array(image_list_train, dtype=np.float16) / 255.0\r\n",
    "print()\r\n",
    "\r\n",
    "# Check the number of images loaded for training\r\n",
    "image_len = len(image_list_train)\r\n",
    "print(f\"Total number of images: {image_len}\")"
   ]
  },
  {
   "cell_type": "code",
   "execution_count": 9,
   "metadata": {
    "colab": {
     "base_uri": "https://localhost:8080/"
    },
    "executionInfo": {
     "elapsed": 16,
     "status": "ok",
     "timestamp": 1623177852520,
     "user": {
      "displayName": "Akella Niranjan",
      "photoUrl": "https://lh3.googleusercontent.com/a-/AOh14GiS0hDW7cYrcLRQ7IP_TVEsKTd1iwuhmSjd-QBh=s64",
      "userId": "10548223611542786095"
     },
     "user_tz": -330
    },
    "id": "15EUEA6dUjAb",
    "outputId": "60702bd3-a1bb-4940-a20e-7fd42d9cdcd7"
   },
   "outputs": [
    {
     "name": "stdout",
     "output_type": "stream",
     "text": [
      "Total number of classes:  39\n"
     ]
    }
   ],
   "source": [
    "\"\"\"Examine the labels/classes in the training dataset.\"\"\"\r\n",
    "\r\n",
    "label_binarizer = LabelBinarizer()\r\n",
    "image_labels = label_binarizer.fit_transform(label_list_train)\r\n",
    "\r\n",
    "pickle.dump(label_binarizer,open('plant_disease_label_transform.pkl', 'wb'))\r\n",
    "n_classes = len(label_binarizer.classes_)\r\n",
    "\r\n",
    "print(\"Total number of classes: \", n_classes)"
   ]
  },
  {
   "cell_type": "code",
   "execution_count": 10,
   "metadata": {
    "colab": {
     "base_uri": "https://localhost:8080/"
    },
    "executionInfo": {
     "elapsed": 14,
     "status": "ok",
     "timestamp": 1623177852521,
     "user": {
      "displayName": "Akella Niranjan",
      "photoUrl": "https://lh3.googleusercontent.com/a-/AOh14GiS0hDW7cYrcLRQ7IP_TVEsKTd1iwuhmSjd-QBh=s64",
      "userId": "10548223611542786095"
     },
     "user_tz": -330
    },
    "id": "PViXBn7kUi89",
    "outputId": "665a1698-8cc9-480f-907c-d2d0b7cf627f"
   },
   "outputs": [
    {
     "data": {
      "text/plain": [
       "array([[1, 0, 0, ..., 0, 0, 0],\n",
       "       [1, 0, 0, ..., 0, 0, 0],\n",
       "       [1, 0, 0, ..., 0, 0, 0],\n",
       "       ...,\n",
       "       [0, 0, 0, ..., 0, 0, 0],\n",
       "       [0, 0, 0, ..., 0, 0, 0],\n",
       "       [0, 0, 0, ..., 0, 0, 0]])"
      ]
     },
     "execution_count": 10,
     "metadata": {},
     "output_type": "execute_result"
    }
   ],
   "source": [
    "image_labels"
   ]
  },
  {
   "cell_type": "code",
   "execution_count": 24,
   "metadata": {
    "executionInfo": {
     "elapsed": 6,
     "status": "ok",
     "timestamp": 1623177852521,
     "user": {
      "displayName": "Akella Niranjan",
      "photoUrl": "https://lh3.googleusercontent.com/a-/AOh14GiS0hDW7cYrcLRQ7IP_TVEsKTd1iwuhmSjd-QBh=s64",
      "userId": "10548223611542786095"
     },
     "user_tz": -330
    },
    "id": "aofjXWyxTjCq"
   },
   "outputs": [],
   "source": [
    "\"\"\"# Augment and Split Dataset\n",
    "Using `ImageDataGenerator` to augment data by performing various operations on the training images.\n",
    "\"\"\"\n",
    "\n",
    "augment = ImageDataGenerator(rotation_range=25, width_shift_range=0.1,\n",
    "                             height_shift_range=0.1, shear_range=0.2, \n",
    "                             zoom_range=0.2, horizontal_flip=True, \n",
    "                             fill_mode=\"nearest\")"
   ]
  },
  {
   "cell_type": "code",
   "execution_count": 11,
   "metadata": {
    "colab": {
     "base_uri": "https://localhost:8080/"
    },
    "executionInfo": {
     "elapsed": 625,
     "status": "ok",
     "timestamp": 1623177853140,
     "user": {
      "displayName": "Akella Niranjan",
      "photoUrl": "https://lh3.googleusercontent.com/a-/AOh14GiS0hDW7cYrcLRQ7IP_TVEsKTd1iwuhmSjd-QBh=s64",
      "userId": "10548223611542786095"
     },
     "user_tz": -330
    },
    "id": "lQglwnzGYPA5",
    "outputId": "97d37b61-bf7a-4015-e0ea-5561fe1c54ab"
   },
   "outputs": [
    {
     "name": "stdout",
     "output_type": "stream",
     "text": [
      "[INFO] Splitting data to train and test...\n"
     ]
    }
   ],
   "source": [
    "\"\"\"Splitting the data into training and test sets for validation purpose.\"\"\"\n",
    "\n",
    "print(\"[INFO] Splitting data to train and test...\")\n",
    "x_train, x_test, y_train, y_test = train_test_split(np_image_list, image_labels, test_size=0.2, random_state = 42)"
   ]
  },
  {
   "cell_type": "code",
   "execution_count": null,
   "metadata": {
    "executionInfo": {
     "elapsed": 8,
     "status": "ok",
     "timestamp": 1623177853142,
     "user": {
      "displayName": "Akella Niranjan",
      "photoUrl": "https://lh3.googleusercontent.com/a-/AOh14GiS0hDW7cYrcLRQ7IP_TVEsKTd1iwuhmSjd-QBh=s64",
      "userId": "10548223611542786095"
     },
     "user_tz": -330
    },
    "id": "kZFqbX0yYO9w"
   },
   "outputs": [],
   "source": []
  },
  {
   "cell_type": "code",
   "execution_count": 30,
   "metadata": {
    "colab": {
     "base_uri": "https://localhost:8080/"
    },
    "executionInfo": {
     "elapsed": 6045,
     "status": "ok",
     "timestamp": 1623177873583,
     "user": {
      "displayName": "Akella Niranjan",
      "photoUrl": "https://lh3.googleusercontent.com/a-/AOh14GiS0hDW7cYrcLRQ7IP_TVEsKTd1iwuhmSjd-QBh=s64",
      "userId": "10548223611542786095"
     },
     "user_tz": -330
    },
    "id": "a6CiKlFzrIV2",
    "outputId": "e950556d-0b24-419e-a187-72af400f6884"
   },
   "outputs": [
    {
     "name": "stdout",
     "output_type": "stream",
     "text": [
      "Model: \"sequential_5\"\n",
      "_________________________________________________________________\n",
      "Layer (type)                 Output Shape              Param #   \n",
      "=================================================================\n",
      "conv2d_25 (Conv2D)           (None, 256, 256, 32)      896       \n",
      "_________________________________________________________________\n",
      "leaky_re_lu_30 (LeakyReLU)   (None, 256, 256, 32)      0         \n",
      "_________________________________________________________________\n",
      "batch_normalization_30 (Batc (None, 256, 256, 32)      128       \n",
      "_________________________________________________________________\n",
      "max_pooling2d_15 (MaxPooling (None, 85, 85, 32)        0         \n",
      "_________________________________________________________________\n",
      "dropout_20 (Dropout)         (None, 85, 85, 32)        0         \n",
      "_________________________________________________________________\n",
      "conv2d_26 (Conv2D)           (None, 85, 85, 64)        18496     \n",
      "_________________________________________________________________\n",
      "leaky_re_lu_31 (LeakyReLU)   (None, 85, 85, 64)        0         \n",
      "_________________________________________________________________\n",
      "batch_normalization_31 (Batc (None, 85, 85, 64)        256       \n",
      "_________________________________________________________________\n",
      "conv2d_27 (Conv2D)           (None, 85, 85, 64)        36928     \n",
      "_________________________________________________________________\n",
      "leaky_re_lu_32 (LeakyReLU)   (None, 85, 85, 64)        0         \n",
      "_________________________________________________________________\n",
      "batch_normalization_32 (Batc (None, 85, 85, 64)        256       \n",
      "_________________________________________________________________\n",
      "max_pooling2d_16 (MaxPooling (None, 42, 42, 64)        0         \n",
      "_________________________________________________________________\n",
      "dropout_21 (Dropout)         (None, 42, 42, 64)        0         \n",
      "_________________________________________________________________\n",
      "conv2d_28 (Conv2D)           (None, 42, 42, 128)       73856     \n",
      "_________________________________________________________________\n",
      "leaky_re_lu_33 (LeakyReLU)   (None, 42, 42, 128)       0         \n",
      "_________________________________________________________________\n",
      "batch_normalization_33 (Batc (None, 42, 42, 128)       512       \n",
      "_________________________________________________________________\n",
      "conv2d_29 (Conv2D)           (None, 42, 42, 128)       147584    \n",
      "_________________________________________________________________\n",
      "leaky_re_lu_34 (LeakyReLU)   (None, 42, 42, 128)       0         \n",
      "_________________________________________________________________\n",
      "batch_normalization_34 (Batc (None, 42, 42, 128)       512       \n",
      "_________________________________________________________________\n",
      "max_pooling2d_17 (MaxPooling (None, 21, 21, 128)       0         \n",
      "_________________________________________________________________\n",
      "dropout_22 (Dropout)         (None, 21, 21, 128)       0         \n",
      "_________________________________________________________________\n",
      "flatten_5 (Flatten)          (None, 56448)             0         \n",
      "_________________________________________________________________\n",
      "my_dense (Dense)             (None, 1024)              57803776  \n",
      "_________________________________________________________________\n",
      "leaky_re_lu_35 (LeakyReLU)   (None, 1024)              0         \n",
      "_________________________________________________________________\n",
      "batch_normalization_35 (Batc (None, 1024)              4096      \n",
      "_________________________________________________________________\n",
      "dropout_23 (Dropout)         (None, 1024)              0         \n",
      "_________________________________________________________________\n",
      "dense_3 (Dense)              (None, 39)                39975     \n",
      "_________________________________________________________________\n",
      "activation (Activation)      (None, 39)                0         \n",
      "=================================================================\n",
      "Total params: 58,127,271\n",
      "Trainable params: 58,124,391\n",
      "Non-trainable params: 2,880\n",
      "_________________________________________________________________\n"
     ]
    }
   ],
   "source": [
    "\"\"\"# Build Model\r\n",
    "Defining the hyperparameters of the plant disease classification model.\r\n",
    "\"\"\"\r\n",
    "\r\n",
    "EPOCHS = 10\r\n",
    "STEPS = 100\r\n",
    "LR = 1e-3\r\n",
    "BATCH_SIZE = 32\r\n",
    "WIDTH = 256\r\n",
    "HEIGHT = 256\r\n",
    "DEPTH = 3\r\n",
    "\r\n",
    "\"\"\"Creating a sequential model and adding Convolutional, Normalization, Pooling, Dropout and Activation layers at the appropriate positions.\"\"\"\r\n",
    "\r\n",
    "model = Sequential()\r\n",
    "inputShape = (HEIGHT, WIDTH, DEPTH)\r\n",
    "chanDim = -1\r\n",
    "\r\n",
    "if K.image_data_format() == \"channels_first\":\r\n",
    "    inputShape = (DEPTH, HEIGHT, WIDTH)\r\n",
    "    chanDim = 1\r\n",
    "\r\n",
    "model.add(Conv2D(32, (3, 3), padding=\"same\",input_shape=inputShape))\r\n",
    "model.add(LeakyReLU(alpha=0.1))\r\n",
    "model.add(BatchNormalization(axis=chanDim))\r\n",
    "model.add(MaxPooling2D(pool_size=(3, 3)))\r\n",
    "model.add(Dropout(0.25))\r\n",
    "\r\n",
    "model.add(Conv2D(64, (3, 3), padding=\"same\"))\r\n",
    "model.add(LeakyReLU(alpha=0.1))\r\n",
    "model.add(BatchNormalization(axis=chanDim))\r\n",
    "\r\n",
    "model.add(Conv2D(64, (3, 3), padding=\"same\"))\r\n",
    "model.add(LeakyReLU(alpha=0.1))\r\n",
    "model.add(BatchNormalization(axis=chanDim))\r\n",
    "model.add(MaxPooling2D(pool_size=(2, 2)))\r\n",
    "model.add(Dropout(0.25))\r\n",
    "\r\n",
    "model.add(Conv2D(128, (3, 3), padding=\"same\"))\r\n",
    "model.add(LeakyReLU(alpha=0.1))\r\n",
    "model.add(BatchNormalization(axis=chanDim))\r\n",
    "\r\n",
    "model.add(Conv2D(128, (3, 3), padding=\"same\"))\r\n",
    "model.add(LeakyReLU(alpha=0.1))\r\n",
    "model.add(BatchNormalization(axis=chanDim))\r\n",
    "model.add(MaxPooling2D(pool_size=(2, 2)))\r\n",
    "model.add(Dropout(0.25))\r\n",
    "\r\n",
    "model.add(Flatten())\r\n",
    "\r\n",
    "model.add(Dense(1024, name = 'my_dense'))\r\n",
    "model.add(LeakyReLU(alpha=0.1))\r\n",
    "model.add(BatchNormalization())\r\n",
    "model.add(Dropout(0.5))\r\n",
    "\r\n",
    "model.add(Dense(n_classes))\r\n",
    "model.add(Activation(\"softmax\"))\r\n",
    "\r\n",
    "model.summary()"
   ]
  },
  {
   "cell_type": "markdown",
   "metadata": {},
   "source": [
    "## Feature Extraction from the Dense Layer before classification"
   ]
  },
  {
   "cell_type": "code",
   "execution_count": 34,
   "metadata": {
    "colab": {
     "base_uri": "https://localhost:8080/"
    },
    "executionInfo": {
     "elapsed": 458,
     "status": "ok",
     "timestamp": 1623177880481,
     "user": {
      "displayName": "Akella Niranjan",
      "photoUrl": "https://lh3.googleusercontent.com/a-/AOh14GiS0hDW7cYrcLRQ7IP_TVEsKTd1iwuhmSjd-QBh=s64",
      "userId": "10548223611542786095"
     },
     "user_tz": -330
    },
    "id": "lrPzn71H6Wdp",
    "outputId": "f5c28751-cf41-445c-b834-45aac23d36e4"
   },
   "outputs": [
    {
     "name": "stdout",
     "output_type": "stream",
     "text": [
      "Model: \"model\"\n",
      "_________________________________________________________________\n",
      "Layer (type)                 Output Shape              Param #   \n",
      "=================================================================\n",
      "conv2d_input (InputLayer)    [(None, 256, 256, 3)]     0         \n",
      "_________________________________________________________________\n",
      "conv2d (Conv2D)              (None, 256, 256, 32)      896       \n",
      "_________________________________________________________________\n",
      "leaky_re_lu (LeakyReLU)      (None, 256, 256, 32)      0         \n",
      "_________________________________________________________________\n",
      "batch_normalization (BatchNo (None, 256, 256, 32)      128       \n",
      "_________________________________________________________________\n",
      "max_pooling2d (MaxPooling2D) (None, 85, 85, 32)        0         \n",
      "_________________________________________________________________\n",
      "dropout (Dropout)            (None, 85, 85, 32)        0         \n",
      "_________________________________________________________________\n",
      "conv2d_1 (Conv2D)            (None, 85, 85, 64)        18496     \n",
      "_________________________________________________________________\n",
      "leaky_re_lu_1 (LeakyReLU)    (None, 85, 85, 64)        0         \n",
      "_________________________________________________________________\n",
      "batch_normalization_1 (Batch (None, 85, 85, 64)        256       \n",
      "_________________________________________________________________\n",
      "conv2d_2 (Conv2D)            (None, 85, 85, 64)        36928     \n",
      "_________________________________________________________________\n",
      "leaky_re_lu_2 (LeakyReLU)    (None, 85, 85, 64)        0         \n",
      "_________________________________________________________________\n",
      "batch_normalization_2 (Batch (None, 85, 85, 64)        256       \n",
      "_________________________________________________________________\n",
      "max_pooling2d_1 (MaxPooling2 (None, 42, 42, 64)        0         \n",
      "_________________________________________________________________\n",
      "dropout_1 (Dropout)          (None, 42, 42, 64)        0         \n",
      "_________________________________________________________________\n",
      "conv2d_3 (Conv2D)            (None, 42, 42, 128)       73856     \n",
      "_________________________________________________________________\n",
      "leaky_re_lu_3 (LeakyReLU)    (None, 42, 42, 128)       0         \n",
      "_________________________________________________________________\n",
      "batch_normalization_3 (Batch (None, 42, 42, 128)       512       \n",
      "_________________________________________________________________\n",
      "conv2d_4 (Conv2D)            (None, 42, 42, 128)       147584    \n",
      "_________________________________________________________________\n",
      "leaky_re_lu_4 (LeakyReLU)    (None, 42, 42, 128)       0         \n",
      "_________________________________________________________________\n",
      "batch_normalization_4 (Batch (None, 42, 42, 128)       512       \n",
      "_________________________________________________________________\n",
      "max_pooling2d_2 (MaxPooling2 (None, 21, 21, 128)       0         \n",
      "_________________________________________________________________\n",
      "dropout_2 (Dropout)          (None, 21, 21, 128)       0         \n",
      "_________________________________________________________________\n",
      "flatten (Flatten)            (None, 56448)             0         \n",
      "_________________________________________________________________\n",
      "my_dense (Dense)             (None, 1024)              57803776  \n",
      "=================================================================\n",
      "Total params: 58,083,200\n",
      "Trainable params: 58,082,368\n",
      "Non-trainable params: 832\n",
      "_________________________________________________________________\n"
     ]
    }
   ],
   "source": [
    "layer_name = 'my_dense'\r\n",
    "intermediate_layer_model = Model(inputs=model.input,outputs=model.get_layer(layer_name).output) \r\n",
    "intermediate_layer_model.summary()"
   ]
  },
  {
   "cell_type": "code",
   "execution_count": 35,
   "metadata": {
    "colab": {
     "base_uri": "https://localhost:8080/"
    },
    "executionInfo": {
     "elapsed": 826220,
     "status": "ok",
     "timestamp": 1623178709653,
     "user": {
      "displayName": "Akella Niranjan",
      "photoUrl": "https://lh3.googleusercontent.com/a-/AOh14GiS0hDW7cYrcLRQ7IP_TVEsKTd1iwuhmSjd-QBh=s64",
      "userId": "10548223611542786095"
     },
     "user_tz": -330
    },
    "id": "5FGRh6ojt96j",
    "outputId": "4cfa34e8-8760-4cca-e196-f02394234286"
   },
   "outputs": [
    {
     "name": "stdout",
     "output_type": "stream",
     "text": [
      "[INFO] Training network...\n",
      "Epoch 1/20\n",
      "195/195 [==============================] - 89s 391ms/step - loss: 0.4240 - accuracy: 0.1264 - val_loss: 0.1451 - val_accuracy: 0.0288\n",
      "Epoch 2/20\n",
      "195/195 [==============================] - 73s 376ms/step - loss: 0.0920 - accuracy: 0.4378 - val_loss: 0.1563 - val_accuracy: 0.0635\n",
      "Epoch 3/20\n",
      "195/195 [==============================] - 68s 346ms/step - loss: 0.0700 - accuracy: 0.5798 - val_loss: 0.0592 - val_accuracy: 0.5564\n",
      "Epoch 4/20\n",
      "195/195 [==============================] - 67s 342ms/step - loss: 0.0587 - accuracy: 0.6462 - val_loss: 0.0590 - val_accuracy: 0.6026\n",
      "Epoch 5/20\n",
      "195/195 [==============================] - 67s 341ms/step - loss: 0.0495 - accuracy: 0.6995 - val_loss: 0.0509 - val_accuracy: 0.6776\n",
      "Epoch 6/20\n",
      "195/195 [==============================] - 67s 342ms/step - loss: 0.0433 - accuracy: 0.7442 - val_loss: 0.0439 - val_accuracy: 0.7256\n",
      "Epoch 7/20\n",
      "195/195 [==============================] - 71s 362ms/step - loss: 0.0390 - accuracy: 0.7776 - val_loss: 0.0318 - val_accuracy: 0.7808\n",
      "Epoch 8/20\n",
      "195/195 [==============================] - 71s 361ms/step - loss: 0.0346 - accuracy: 0.8085 - val_loss: 0.0579 - val_accuracy: 0.6545\n",
      "Epoch 9/20\n",
      "195/195 [==============================] - 70s 360ms/step - loss: 0.0318 - accuracy: 0.8197 - val_loss: 0.0486 - val_accuracy: 0.7327\n",
      "Epoch 10/20\n",
      "195/195 [==============================] - 71s 361ms/step - loss: 0.0272 - accuracy: 0.8532 - val_loss: 0.0337 - val_accuracy: 0.8135\n",
      "Epoch 11/20\n",
      "195/195 [==============================] - 70s 357ms/step - loss: 0.0252 - accuracy: 0.8713 - val_loss: 0.0601 - val_accuracy: 0.7000\n",
      "Epoch 12/20\n",
      "195/195 [==============================] - 70s 358ms/step - loss: 0.0240 - accuracy: 0.8734 - val_loss: 0.0276 - val_accuracy: 0.8410\n",
      "Epoch 13/20\n",
      "195/195 [==============================] - 71s 362ms/step - loss: 0.0226 - accuracy: 0.8809 - val_loss: 0.0629 - val_accuracy: 0.7045\n",
      "Epoch 14/20\n",
      "195/195 [==============================] - 69s 354ms/step - loss: 0.0209 - accuracy: 0.8982 - val_loss: 0.0275 - val_accuracy: 0.8372\n",
      "Epoch 15/20\n",
      "195/195 [==============================] - 68s 349ms/step - loss: 0.0189 - accuracy: 0.9114 - val_loss: 0.0275 - val_accuracy: 0.8526\n",
      "Epoch 16/20\n",
      "195/195 [==============================] - 68s 349ms/step - loss: 0.0179 - accuracy: 0.9157 - val_loss: 0.0445 - val_accuracy: 0.7436\n",
      "Epoch 17/20\n",
      "195/195 [==============================] - 68s 349ms/step - loss: 0.0170 - accuracy: 0.9194 - val_loss: 0.0927 - val_accuracy: 0.6064\n",
      "Epoch 18/20\n",
      "195/195 [==============================] - 69s 351ms/step - loss: 0.0159 - accuracy: 0.9256 - val_loss: 0.0204 - val_accuracy: 0.8865\n",
      "Epoch 19/20\n",
      "195/195 [==============================] - 68s 350ms/step - loss: 0.0158 - accuracy: 0.9272 - val_loss: 0.0437 - val_accuracy: 0.8058\n",
      "Epoch 20/20\n",
      "195/195 [==============================] - 68s 349ms/step - loss: 0.0144 - accuracy: 0.9378 - val_loss: 0.0781 - val_accuracy: 0.6724\n"
     ]
    }
   ],
   "source": [
    "\"\"\"# Train Model\r\n",
    "We initialize Adam optimizer with learning rate and decay parameters. \r\n",
    "Also, we choose the type of loss and metrics for the model and compile it for training.\r\n",
    "\"\"\"\r\n",
    "\r\n",
    "# steps_per_epoch=len(x_train) // BATCH_SIZE,\r\n",
    "\r\n",
    "# Initialize optimizer\r\n",
    "opt = Adam(learning_rate=LR, decay=LR / EPOCHS)\r\n",
    "\r\n",
    "# Compile model\r\n",
    "model.compile(loss=\"binary_crossentropy\", optimizer=opt, metrics=[\"accuracy\"])\r\n",
    "\r\n",
    "# Train model\r\n",
    "print(\"[INFO] Training network...\")\r\n",
    "history = model.fit(augment.flow(x_train, y_train, batch_size=BATCH_SIZE),\r\n",
    "                              validation_data=(x_test, y_test),\r\n",
    "                              epochs=20, \r\n",
    "                              verbose=1)\r\n",
    "        \r\n",
    "scores = model.evaluate(x_test, y_test)\r\n",
    "print(f\"Test Accuracy: {scores[1]*100}\")\r\n"
   ]
  },
  {
   "cell_type": "code",
   "execution_count": 37,
   "metadata": {},
   "outputs": [
    {
     "name": "stdout",
     "output_type": "stream",
     "text": [
      "INFO:tensorflow:Assets written to: D:/PDD_Models/PDD_completemodel\\assets\n"
     ]
    }
   ],
   "source": [
    "model.save('D:/PDD_Models/PDD_completemodel')\r\n",
    "model.save('D:/PDD_Models/HDF5/PDD_completemodel.h5')"
   ]
  },
  {
   "cell_type": "code",
   "execution_count": 38,
   "metadata": {},
   "outputs": [
    {
     "name": "stdout",
     "output_type": "stream",
     "text": [
      "WARNING:tensorflow:Compiled the loaded model, but the compiled metrics have yet to be built. `model.compile_metrics` will be empty until you train or evaluate the model.\n",
      "INFO:tensorflow:Assets written to: D:/PDD_Models/PDD_IntermediateModel\\assets\n",
      "WARNING:tensorflow:Compiled the loaded model, but the compiled metrics have yet to be built. `model.compile_metrics` will be empty until you train or evaluate the model.\n"
     ]
    }
   ],
   "source": [
    "intermediate_layer_model.save('D:/PDD_Models/PDD_IntermediateModel')\r\n",
    "intermediate_layer_model.save('D:/PDD_Models/HDF5/PDD_IntermediateModel.h5')"
   ]
  },
  {
   "cell_type": "code",
   "execution_count": 16,
   "metadata": {
    "id": "Xr2hsdio8hkz"
   },
   "outputs": [
    {
     "name": "stdout",
     "output_type": "stream",
     "text": [
      "(6240, 1024)\n",
      "(1560, 1024)\n"
     ]
    }
   ],
   "source": [
    "x1 = intermediate_layer_model.predict(x_train)\r\n",
    "print(x1.shape)\r\n",
    "\r\n",
    "x2 = intermediate_layer_model.predict(x_test)\r\n",
    "print(x2.shape)"
   ]
  },
  {
   "cell_type": "markdown",
   "metadata": {},
   "source": [
    "# Support Vector Machine\r\n",
    "\r\n",
    "Integration of CNN with Support Vector Machine."
   ]
  },
  {
   "cell_type": "code",
   "execution_count": 59,
   "metadata": {},
   "outputs": [
    {
     "name": "stdout",
     "output_type": "stream",
     "text": [
      "fitting done !!!\n"
     ]
    }
   ],
   "source": [
    "from sklearn.svm import SVC\r\n",
    "\r\n",
    "svm = SVC(kernel='rbf')\r\n",
    "\r\n",
    "svm.fit(x1,np.argmax(y_train,axis=1))\r\n",
    "\r\n",
    "print('fitting done !!!')"
   ]
  },
  {
   "cell_type": "code",
   "execution_count": 60,
   "metadata": {},
   "outputs": [
    {
     "data": {
      "text/plain": [
       "0.986698717948718"
      ]
     },
     "execution_count": 60,
     "metadata": {},
     "output_type": "execute_result"
    }
   ],
   "source": [
    "svm.score(x1,np.argmax(y_train,axis=1))"
   ]
  },
  {
   "cell_type": "code",
   "execution_count": 19,
   "metadata": {},
   "outputs": [
    {
     "data": {
      "text/plain": [
       "0.9698717948717949"
      ]
     },
     "execution_count": 19,
     "metadata": {},
     "output_type": "execute_result"
    }
   ],
   "source": [
    "svm.score(x2,np.argmax(y_test,axis=1))\r\n",
    "pickle.dump(svm,open('svms.pkl', 'wb'))"
   ]
  },
  {
   "cell_type": "code",
   "execution_count": 35,
   "metadata": {},
   "outputs": [
    {
     "data": {
      "text/html": [
       "<div>\n",
       "<style scoped>\n",
       "    .dataframe tbody tr th:only-of-type {\n",
       "        vertical-align: middle;\n",
       "    }\n",
       "\n",
       "    .dataframe tbody tr th {\n",
       "        vertical-align: top;\n",
       "    }\n",
       "\n",
       "    .dataframe thead th {\n",
       "        text-align: right;\n",
       "    }\n",
       "</style>\n",
       "<table border=\"1\" class=\"dataframe\">\n",
       "  <thead>\n",
       "    <tr style=\"text-align: right;\">\n",
       "      <th></th>\n",
       "      <th>0</th>\n",
       "    </tr>\n",
       "  </thead>\n",
       "  <tbody>\n",
       "    <tr>\n",
       "      <th>0</th>\n",
       "      <td>20</td>\n",
       "    </tr>\n",
       "    <tr>\n",
       "      <th>1</th>\n",
       "      <td>19</td>\n",
       "    </tr>\n",
       "    <tr>\n",
       "      <th>2</th>\n",
       "      <td>10</td>\n",
       "    </tr>\n",
       "    <tr>\n",
       "      <th>3</th>\n",
       "      <td>14</td>\n",
       "    </tr>\n",
       "    <tr>\n",
       "      <th>4</th>\n",
       "      <td>1</td>\n",
       "    </tr>\n",
       "  </tbody>\n",
       "</table>\n",
       "</div>"
      ],
      "text/plain": [
       "    0\n",
       "0  20\n",
       "1  19\n",
       "2  10\n",
       "3  14\n",
       "4   1"
      ]
     },
     "execution_count": 35,
     "metadata": {},
     "output_type": "execute_result"
    }
   ],
   "source": [
    "Pred_labels = svm.predict(x2)\r\n",
    "Pred_labels = pd.DataFrame(Pred_labels,index =None)\r\n",
    "Pred_labels.head()"
   ]
  },
  {
   "cell_type": "markdown",
   "metadata": {},
   "source": [
    "# XGBoost Integration"
   ]
  },
  {
   "cell_type": "code",
   "execution_count": 49,
   "metadata": {},
   "outputs": [
    {
     "name": "stdout",
     "output_type": "stream",
     "text": [
      "[14:54:38] WARNING: C:/Users/Administrator/workspace/xgboost-win64_release_1.4.0/src/learner.cc:1095: Starting in XGBoost 1.3.0, the default evaluation metric used with the objective 'multi:softprob' was changed from 'merror' to 'mlogloss'. Explicitly set eval_metric if you'd like to restore the old behavior.\n",
      "fitting done !!!\n"
     ]
    }
   ],
   "source": [
    "import xgboost as xgb\r\n",
    "\r\n",
    "xb = xgb.XGBClassifier(use_label_encoder=False)\r\n",
    "\r\n",
    "xb.fit(x1,np.argmax(y_train,axis=1))\r\n",
    "\r\n",
    "pickle.dump(xb,open('xgb_model.pkl','wb'))"
   ]
  },
  {
   "cell_type": "code",
   "execution_count": 13,
   "metadata": {},
   "outputs": [],
   "source": [
    "from tensorflow.keras.models import load_model\r\n",
    "\r\n",
    "ai = load_model('D:\\PDD_Models\\HDF5\\PDD_Intermediatemodel.h5')\r\n",
    "xgb_model = xgb.XGBClassifier()\r\n",
    "xgb_model.load_model(r'D:\\PDD_Models\\xgb_model.json')\r\n",
    "\r\n",
    "x2 = ai.predict(x_test)\r\n",
    "xgb_model.score(x2,np.argmax(y_test,axis=1))"
   ]
  },
  {
   "cell_type": "code",
   "execution_count": 20,
   "metadata": {},
   "outputs": [],
   "source": []
  },
  {
   "cell_type": "code",
   "execution_count": null,
   "metadata": {},
   "outputs": [],
   "source": []
  }
 ],
 "metadata": {
  "accelerator": "GPU",
  "colab": {
   "authorship_tag": "ABX9TyMYnTMjyEbKj3D0r2HxMd9C",
   "name": "Plant_Disease_Detection.ipynb",
   "provenance": []
  },
  "interpreter": {
   "hash": "64c1db036c245e91d1c2d164e41aef3f7526caa4d16da4bd1475087c34dc1c7b"
  },
  "kernelspec": {
   "display_name": "Python 3.8.10 64-bit ('DL': conda)",
   "name": "python3"
  },
  "language_info": {
   "codemirror_mode": {
    "name": "ipython",
    "version": 3
   },
   "file_extension": ".py",
   "mimetype": "text/x-python",
   "name": "python",
   "nbconvert_exporter": "python",
   "pygments_lexer": "ipython3",
   "version": "3.8.10"
  }
 },
 "nbformat": 4,
 "nbformat_minor": 4
}